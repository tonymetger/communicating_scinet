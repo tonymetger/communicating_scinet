{
 "cells": [
  {
   "cell_type": "code",
   "execution_count": 1,
   "metadata": {
    "collapsed": true
   },
   "outputs": [],
   "source": [
    "import numpy as np\n",
    "import matplotlib.pyplot as plt\n",
    "from mpl_toolkits.mplot3d import Axes3D\n",
    "from matplotlib import cm\n",
    "import matplotlib.tri as mtri\n",
    "from tqdm import tqdm_notebook\n",
    "import odr\n",
    "import odr.ed_quantum as ed\n",
    "from odr.model_operational import OperationalNetwork\n",
    "from odr.data_handler import Dataset"
   ]
  },
  {
   "cell_type": "markdown",
   "metadata": {},
   "source": [
    "## Generate or load data"
   ]
  },
  {
   "cell_type": "code",
   "execution_count": 3,
   "metadata": {
    "collapsed": true
   },
   "outputs": [],
   "source": [
    "data = ed.create_dataset_mixed(int(1e5))\n",
    "data.save('quantum_mixed_100k')"
   ]
  },
  {
   "cell_type": "code",
   "execution_count": 2,
   "metadata": {
    "collapsed": true
   },
   "outputs": [],
   "source": [
    "data = Dataset.load('quantum_mixed_100k')"
   ]
  },
  {
   "cell_type": "code",
   "execution_count": 3,
   "metadata": {
    "collapsed": true
   },
   "outputs": [],
   "source": [
    "td, vd = data.train_val_separation(0.05)"
   ]
  },
  {
   "cell_type": "markdown",
   "metadata": {},
   "source": [
    "## Train model"
   ]
  },
  {
   "cell_type": "code",
   "execution_count": 40,
   "metadata": {
    "collapsed": true
   },
   "outputs": [],
   "source": [
    "gamma = 2e-5\n",
    "model = OperationalNetwork(encoder_num=1, decoder_num=3, input_sizes=[75], latent_sizes=[75], \n",
    "            question_sizes=[75, 75, 75], answer_sizes=[1, 1, 1],\n",
    "            encoder_num_units=[100,100], decoder_num_units=[100, 100], name='quantum_mixed')\n",
    "model.train(7000, 512, 5e-4, td, vd, test_step=1, reg_loss_factor=5e-6, gamma1=gamma,gamma2=2*gamma, progress_bar=tqdm_notebook)\n",
    "model.save(model.name)"
   ]
  },
  {
   "cell_type": "markdown",
   "metadata": {},
   "source": [
    "## Load pre-trained model and plot latent layer"
   ]
  },
  {
   "cell_type": "code",
   "execution_count": 4,
   "metadata": {},
   "outputs": [
    {
     "name": "stdout",
     "output_type": "stream",
     "text": [
      "{'encoder_num': 1, 'decoder_num': 3, 'input_sizes': [75], 'latent_sizes': [75], 'question_sizes': [75, 75, 75], 'answer_sizes': [1, 1, 1], 'encoder_num_units': [100, 100], 'decoder_num_units': [100, 100], 'tot_epochs': 7001, 'name': 'quantum_mixed_states', 'load_file': 'quantum_mixed_states'}\n",
      "WARNING:tensorflow:From /Users/raban/anaconda/envs/TenforflowWithPython3/lib/python3.6/site-packages/tensorflow/python/framework/op_def_library.py:263: colocate_with (from tensorflow.python.framework.ops) is deprecated and will be removed in a future version.\n",
      "Instructions for updating:\n",
      "Colocations handled automatically by placer.\n",
      "WARNING:tensorflow:From /Users/raban/anaconda/envs/TenforflowWithPython3/lib/python3.6/site-packages/tensorflow/python/ops/math_ops.py:3066: to_int32 (from tensorflow.python.ops.math_ops) is deprecated and will be removed in a future version.\n",
      "Instructions for updating:\n",
      "Use tf.cast instead.\n",
      "WARNING:tensorflow:From /Users/raban/anaconda/envs/TenforflowWithPython3/lib/python3.6/site-packages/tensorflow/python/training/saver.py:1266: checkpoint_exists (from tensorflow.python.training.checkpoint_management) is deprecated and will be removed in a future version.\n",
      "Instructions for updating:\n",
      "Use standard file APIs to check for files with this prefix.\n",
      "INFO:tensorflow:Restoring parameters from /Users/raban/Dropbox/PhD_Thesis/communicating_scinet/tf_save/quantum_mixed_states.ckpt\n",
      "Loaded network from file quantum_mixed_states\n"
     ]
    }
   ],
   "source": [
    "model = OperationalNetwork.from_saved('quantum_mixed_states')"
   ]
  },
  {
   "cell_type": "code",
   "execution_count": 5,
   "metadata": {
    "collapsed": true
   },
   "outputs": [],
   "source": [
    "from scipy.linalg import sqrtm\n",
    "from scipy.stats import unitary_group\n",
    "sigma_x = np.array([[0, 1], [1, 0]])\n",
    "sigma_y = np.array([[0, -1.j], [1.j, 0]])\n",
    "sigma_z = np.array([[1, 0], [0, -1]])\n",
    "swap_gate = np.array([[1, 0, 0, 0], [0, 0, 1, 0], [0, 1, 0, 0], [0, 0, 0, 1]])\n",
    "\n",
    "def vec_to_state(vec):\n",
    "    return 1/2.*(np.eye(2) + vec[0] * sigma_x + vec[1] * sigma_y + vec[2] * sigma_z)\n",
    "\n",
    "def gen_rand_mixed_with_fixed_axis(fix_qubit, fix_axis):\n",
    "    r = np.random.rand()\n",
    "    phi = 2*np.pi * np.random.rand()\n",
    "    single_qubit_vec = np.roll(np.array([0, r*np.cos(phi), r*np.sin(phi)]), fix_axis)\n",
    "    single_qubit_state = vec_to_state(single_qubit_vec)\n",
    "    purification = np.dot(np.kron(sqrtm(single_qubit_state), np.eye(2)), np.array([1, 0, 0, 1]))\n",
    "    U = unitary_group.rvs(8)\n",
    "    randomized_state = np.dot(np.kron(np.eye(2), U), np.kron(purification, np.array([1, 0, 0, 0])))\n",
    "    randomized_state = np.outer(randomized_state, randomized_state.conj())\n",
    "    red_rand_state = np.trace(randomized_state.reshape(4, 4, 4, 4), axis1=1, axis2=3)\n",
    "    if fix_qubit == 1:\n",
    "        red_rand_state = swap_gate.dot(red_rand_state.dot(swap_gate))\n",
    "    return red_rand_state\n",
    "\n",
    "def red_state_coords(joint_state, qubit_no):\n",
    "    axes = [0, 2] if qubit_no == 1 else [1, 3]\n",
    "    red_state = np.trace(joint_state.reshape(2, 2, 2, 2), axis1=axes[0], axis2=axes[1])\n",
    "    sigma_x = np.array([[0, 1], [1, 0]])\n",
    "    sigma_y = np.array([[0, -1.j], [1.j, 0]])\n",
    "    sigma_z = np.array([[1, 0], [0, -1]])\n",
    "    \n",
    "    return [np.real(np.trace(np.dot(sigma_x, red_state))), \n",
    "            np.real(np.trace(np.dot(sigma_y, red_state))), \n",
    "            np.real(np.trace(np.dot(sigma_z, red_state)))]"
   ]
  },
  {
   "cell_type": "code",
   "execution_count": 6,
   "metadata": {
    "collapsed": true
   },
   "outputs": [],
   "source": [
    "def plot3D_from_data(model, dataset_both, x_data_both, y_data_both, zs=None, labels_xy=['x', 'y'], zlim=None):\n",
    "    layer = model.full_latent\n",
    "\n",
    "    noise_levels = model.run(dataset_both[0], model.select_logs)\n",
    "    selected_latent = np.sort(np.concatenate([np.where(noise_levels[0] < 0)[0], \n",
    "                                             np.where(noise_levels[1] < 0)[0]]))\n",
    "    print(selected_latent)\n",
    "    zs_both = [model.run(dataset_both[0], layer), model.run(dataset_both[1], layer)]\n",
    "    \n",
    "    fig = plt.figure(figsize=(20, 7))\n",
    "    for counter, latent_index in enumerate(selected_latent):\n",
    "        for qubit_no in range(2):\n",
    "            # Set up triangulation\n",
    "            tri = mtri.Triangulation(x_data_both[qubit_no], y_data_both[qubit_no])\n",
    "            points = np.dstack([x_data_both[qubit_no][tri.triangles], y_data_both[qubit_no][tri.triangles]])\n",
    "            edge_length = np.empty(points.shape[0])\n",
    "            for i in range(len(edge_length)):\n",
    "                p = points[i]\n",
    "                edge_length[i] = np.linalg.norm(p[0] - p[1]) + np.linalg.norm(p[0] - p[2]) + np.linalg.norm(p[1] - p[2])\n",
    "            threshold = 5.\n",
    "            mask = np.where(edge_length > threshold, True, False)\n",
    "            tri.set_mask(mask)\n",
    "\n",
    "            ax = fig.add_subplot(2, 6, counter + qubit_no*6 + 1, projection='3d')\n",
    "            ax.tick_params(labelsize=14)\n",
    "            ax.azim=-115\n",
    "            z_min = np.min(np.stack([zs_both[0][:, latent_index], zs_both[1][:, latent_index]]))\n",
    "            z_max = np.max(np.stack([zs_both[0][:, latent_index], zs_both[1][:, latent_index]]))\n",
    "            cmap = cm.inferno if noise_levels[qubit_no][latent_index] < 0 else cm.Greys\n",
    "            ax.plot_trisurf(tri, zs_both[qubit_no][:, latent_index], cmap=cmap, vmin=z_min, vmax=z_max)\n",
    "            ax.set_xlabel(labels_xy[0], fontsize=18)\n",
    "            ax.set_ylabel(labels_xy[1], fontsize=18)\n",
    "            ax.set_zlim([z_min, z_max])\n",
    "            ax.set_xticks([-1,0,1])\n",
    "            ax.set_yticks([-1,0,1])\n",
    "            ax.set_zticks([-1,0,1])\n",
    "    fig.tight_layout()\n",
    "    return fig\n",
    "\n",
    "def plot_quantum(model, joint_ref_states, fix_axis, n=1000):\n",
    "    xx_both = []\n",
    "    yy_both = []\n",
    "    zz_both = []\n",
    "    viz_dataset_both = []\n",
    "    \n",
    "    for qubit_no in [0, 1]:\n",
    "        joint_states = np.array([gen_rand_mixed_with_fixed_axis(qubit_no, fix_axis) for _ in range(n)])\n",
    "        viz_dataset = ed.create_dataset_mixed(None, manual_ref_states=[joint_states, joint_ref_states])\n",
    "\n",
    "        xx, yy, zz = [], [], []\n",
    "        for joint_state in viz_dataset.hidden_states[0][:n]:\n",
    "            coords = red_state_coords(joint_state, qubit_no)\n",
    "            xx.append(coords[0])\n",
    "            yy.append(coords[1])\n",
    "            zz.append(coords[2])\n",
    "\n",
    "        xx_both.append(np.array(xx))\n",
    "        yy_both.append(np.array(yy))\n",
    "        zz_both.append(np.array(zz))\n",
    "        viz_dataset_both.append(viz_dataset)\n",
    "    \n",
    "    if fix_axis == 0:\n",
    "        return plot3D_from_data(model, viz_dataset_both, yy_both, zz_both, labels_xy=[r'$y$', r'$z$'])\n",
    "    elif fix_axis == 1:\n",
    "        return plot3D_from_data(model, viz_dataset_both, xx_both, zz_both, labels_xy=[r'$x$', r'$z$'])\n",
    "    elif fix_axis == 2:\n",
    "        return plot3D_from_data(model, viz_dataset_both, xx_both, yy_both, labels_xy=[r'$x$', r'$y$'])\n",
    "    "
   ]
  },
  {
   "cell_type": "code",
   "execution_count": 7,
   "metadata": {
    "collapsed": true
   },
   "outputs": [],
   "source": [
    "# To make the plots, we require the global parameters of the dataset.\n",
    "# If you would like to plot the pre-trained model, use:\n",
    "import pickle\n",
    "with open('pretrained_ref_states.pkl', 'rb') as f:\n",
    "    joint_ref_states = pickle.load(f)\n",
    "\n",
    "# If you would like to plot a model that you trained on your own dataset, use:\n",
    "# joint_ref_states = data.global_params[0]"
   ]
  },
  {
   "cell_type": "code",
   "execution_count": 10,
   "metadata": {},
   "outputs": [
    {
     "name": "stdout",
     "output_type": "stream",
     "text": [
      "[ 5  9 25 26 37 41]\n"
     ]
    }
   ],
   "source": [
    "%matplotlib tk\n",
    "fig = plot_quantum(model, joint_ref_states, fix_axis=1, n=1000)"
   ]
  },
  {
   "cell_type": "code",
   "execution_count": 9,
   "metadata": {},
   "outputs": [
    {
     "name": "stdout",
     "output_type": "stream",
     "text": [
      "[ 5  9 25 26 37 41]\n"
     ]
    }
   ],
   "source": [
    "fig = plot_quantum(model, joint_ref_states, fix_axis=0, n=1000)"
   ]
  }
 ],
 "metadata": {
  "anaconda-cloud": {},
  "kernelspec": {
   "display_name": "Python [conda env:TenforflowWithPython3]",
   "language": "python",
   "name": "conda-env-TenforflowWithPython3-py"
  },
  "language_info": {
   "codemirror_mode": {
    "name": "ipython",
    "version": 3
   },
   "file_extension": ".py",
   "mimetype": "text/x-python",
   "name": "python",
   "nbconvert_exporter": "python",
   "pygments_lexer": "ipython3",
   "version": "3.6.7"
  }
 },
 "nbformat": 4,
 "nbformat_minor": 4
}
